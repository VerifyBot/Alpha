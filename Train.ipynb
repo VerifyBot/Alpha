{
 "cells": [
  {
   "cell_type": "markdown",
   "source": [
    "# Linear Regression Model"
   ],
   "metadata": {
    "collapsed": false,
    "pycharm": {
     "name": "#%% md\n"
    }
   }
  },
  {
   "cell_type": "code",
   "execution_count": null,
   "metadata": {
    "collapsed": true,
    "pycharm": {
     "name": "#%%\n"
    }
   },
   "outputs": [],
   "source": [
    "from sklearn.model_selection import train_test_split\n",
    "from sklearn.linear_model import LinearRegression\n",
    "from sklearn.metrics import r2_score\n",
    "import matplotlib.pyplot as plt\n",
    "import re"
   ]
  },
  {
   "cell_type": "code",
   "execution_count": null,
   "outputs": [],
   "source": [
    "def train_test_val_split(X, y):\n",
    "  random_state = random.randint(1, 100000)\n",
    "  # split to train test validation\n",
    "  # https://datascience.stackexchange.com/a/41436\n",
    "  X_train, X_test, y_train, y_test = train_test_split(\n",
    "    X, y, test_size=0.2, random_state=random_state)\n",
    "  X_train, X_val, y_train, y_val = train_test_split(\n",
    "    X_train, y_train, test_size=0.25, random_state=random_state)\n",
    "\n",
    "  return X_train, X_test, y_train, y_test, X_train, X_val, y_train, y_val"
   ],
   "metadata": {
    "collapsed": false,
    "pycharm": {
     "name": "#%%\n"
    }
   }
  },
  {
   "cell_type": "code",
   "execution_count": null,
   "outputs": [],
   "source": [
    "bins_models = {}"
   ],
   "metadata": {
    "collapsed": false,
    "pycharm": {
     "name": "#%%\n"
    }
   }
  },
  {
   "cell_type": "code",
   "execution_count": null,
   "outputs": [],
   "source": [
    "cross_validations_count = 3\n",
    "\n",
    "for bin_size in bins_sizes:\n",
    "  # lets start to create a model with with the 8000 bins division\n",
    "  # we will get the bins features\n",
    "  df = bins_df[bin_size].groupby('bin', as_index=False).first()\n",
    "\n",
    "  X = df.loc[:, df.columns.str.startswith('group_')]  # keep only features and protein levels\n",
    "  y = df['protein_level_mean']\n",
    "\n",
    "  bins_models[bin_size] = []  # cross validations iterations\n",
    "\n",
    "  for cross_validation_iteration in range(cross_validations_count):\n",
    "    X_train, X_test, y_train, y_test, X_train, X_val, y_train, y_val = train_test_val_split(X, y)\n",
    "\n",
    "    regressor = LinearRegression(n_jobs=-1)\n",
    "\n",
    "    features = list(X_train.columns)\n",
    "\n",
    "    selected_features_corrs = []  # list of CORRs\n",
    "    selected_features_names = []  # list of FEATURE_NAMEs\n",
    "\n",
    "    selected_features_coefs = []  # list of coeffecients of selected features\n",
    "    # it is used later for validation\n",
    "    latest_intercept = None  # used for validation\n",
    "\n",
    "    while True:\n",
    "      features_corrs = []\n",
    "      features_coefs = []\n",
    "\n",
    "      # get corrs for all features\n",
    "      for feature in progressbar.progressbar(list(X.columns)):\n",
    "        # always fit with current feature and previous best features\n",
    "        features_for_fit = [*selected_features_names, feature]\n",
    "        # print(X_train[features_for_fit])\n",
    "        try:\n",
    "          b = regressor.fit(X_train[features_for_fit], y_train)  #.values.reshape(-1, 1), y_train)\n",
    "        except ValueError as e:\n",
    "          print(features_for_fit)\n",
    "          print(X_train[features_for_fit])\n",
    "          raise e\n",
    "        # now calculate Y(protein_level)\n",
    "        excpt = b.intercept_\n",
    "        # now add coefficents * protein levels\n",
    "        for i, fit in enumerate(features_for_fit):\n",
    "          excpt += X_test[fit] * b.coef_[i]\n",
    "\n",
    "        # excpt = (X_test[feature] * b.coef_[0] + b.intercept_)  # Y(protein_level) = mx+b\n",
    "        latest_intercept = b.intercept_\n",
    "        features_coefs.append(b.coef_[i])\n",
    "        features_corrs.append(excpt.corr(y_test, method='spearman'))  # add correlation to the list\n",
    "        # after running over all features, the one with the highest correlation will be chosen\n",
    "\n",
    "      clear_output(wait=True)\n",
    "\n",
    "      # find best corr\n",
    "      best_feature_corr = max(features_corrs)\n",
    "      best_feature_index = features_corrs.index(best_feature_corr)\n",
    "      best_feature_coef = features_coefs[best_feature_index]\n",
    "\n",
    "      # stop when current correlation is worse than the one before\n",
    "      if selected_features_corrs and selected_features_corrs[-1] >= best_feature_corr:\n",
    "        break\n",
    "\n",
    "      if selected_features_names:\n",
    "        print(\n",
    "          f'(CV:{cross_validation_iteration})   [{bin_size}--{len(selected_features_corrs) + 1}] New best feature ({X.columns[best_feature_index]}) with {best_feature_corr} against {selected_features_corrs[-1]}')\n",
    "\n",
    "      selected_features_corrs.append(best_feature_corr)\n",
    "      selected_features_names.append(X.columns[best_feature_index])\n",
    "      selected_features_coefs.append(best_feature_coef)\n",
    "\n",
    "    bins_models[bin_size].append(dict(\n",
    "      selected_features_names=selected_features_names,  # this three are correlated by index VVV\n",
    "      selected_features_corrs=selected_features_corrs,  # ^^^VVV\n",
    "      selected_features_coefs=selected_features_coefs,  # ^^^^^^\n",
    "      intercept=latest_intercept,\n",
    "      model=regressor,\n",
    "      sets=(X_train, X_test, y_train, y_test,\n",
    "            X_train, X_val, y_train, y_val)\n",
    "    ))\n",
    "\n",
    "clear_output(wait=True)\n",
    "print(f\"Trained {len(bins_models)} models, each {len(list(bins_models.values())[0])} times\")\n",
    "for bin_size, models in bins_models.items():\n",
    "  for model_i, model in enumerate(models):\n",
    "    print(\n",
    "      f\"[MODEL={model_i}]@> {bin_size} bins division has {len(model['selected_features_names'])} significant features and a success correlation of {model['selected_features_corrs'][-1]}\\n\")"
   ],
   "metadata": {
    "collapsed": false,
    "pycharm": {
     "name": "#%%\n"
    }
   }
  },
  {
   "cell_type": "code",
   "execution_count": null,
   "outputs": [],
   "source": [
    "# save trained models\n",
    "\n",
    "file_idx = max(int(re.findall(r'Round(\\d+)', fn)[0]) for fn in os.listdir(\"../models\")) + 1\n",
    "\n",
    "with open(f'ModelOnBinsResults_{cross_validations_count}CrossValidations_Round{file_idx}.pickle', 'wb') as f:\n",
    "  pickle.dump(bins_models, f)"
   ],
   "metadata": {
    "collapsed": false,
    "pycharm": {
     "name": "#%%\n"
    }
   }
  }
 ],
 "metadata": {
  "kernelspec": {
   "display_name": "Python 3",
   "language": "python",
   "name": "python3"
  },
  "language_info": {
   "codemirror_mode": {
    "name": "ipython",
    "version": 2
   },
   "file_extension": ".py",
   "mimetype": "text/x-python",
   "name": "python",
   "nbconvert_exporter": "python",
   "pygments_lexer": "ipython2",
   "version": "2.7.6"
  }
 },
 "nbformat": 4,
 "nbformat_minor": 0
}
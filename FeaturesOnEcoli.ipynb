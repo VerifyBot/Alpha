{
 "cells": [
  {
   "cell_type": "markdown",
   "source": [
    "[Reference Email](https://mail.google.com/mail/u/0/?tab=rm&ogbl#inbox/FMfcgzGpGnLZzSmCQPVlgTDcHvhTzksz)"
   ],
   "metadata": {
    "collapsed": false,
    "pycharm": {
     "name": "#%% md\n"
    }
   }
  },
  {
   "cell_type": "code",
   "execution_count": 3,
   "metadata": {
    "collapsed": true,
    "pycharm": {
     "name": "#%%\n"
    }
   },
   "outputs": [],
   "source": [
    "import json\n",
    "import operator\n",
    "import random\n",
    "\n",
    "import pandas as pd\n",
    "import utils\n",
    "import numpy as np\n",
    "import collections\n"
   ]
  },
  {
   "cell_type": "code",
   "execution_count": 4,
   "outputs": [
    {
     "data": {
      "text/plain": "                                                operon\n0    CGCGTACAGGAAACACAGAAAAAAGCCCGCACCTGACAGTGCGGGC...\n1    TCACAACTATCGATCAACTCATTCTCATTTTTTGCTAAAGTCGGCA...\n2    TCATTCTTAGCGTGACCGGGAAGTCGGTCACGCTACCTCTTCTGAA...\n3                            CGCCAGAATATAGAAGCCACAAAAA\n4    TCGCCCTATAAACGGGTAATTATACTGACACGGGCGAAGGGGAATT...\n..                                                 ...\n666                      CTGGAGCATGCTCGGTGATAACCAAAAAT\n667                   ACCCTGCCGATGCGCAACATCCCGGTTGGTTC\n668                              ACAAGGAATAACAATTGAAGC\n669  TTTTTATGAGGCCGACGATGATTACGGCCTCAGGCGACAGGCACAA...\n670  GAATTGACTGGAATTTGGGTTTCGAGGCTCTTTGTGCTAAACTGGC...\n\n[671 rows x 1 columns]",
      "text/html": "<div>\n<style scoped>\n    .dataframe tbody tr th:only-of-type {\n        vertical-align: middle;\n    }\n\n    .dataframe tbody tr th {\n        vertical-align: top;\n    }\n\n    .dataframe thead th {\n        text-align: right;\n    }\n</style>\n<table border=\"1\" class=\"dataframe\">\n  <thead>\n    <tr style=\"text-align: right;\">\n      <th></th>\n      <th>operon</th>\n    </tr>\n  </thead>\n  <tbody>\n    <tr>\n      <th>0</th>\n      <td>CGCGTACAGGAAACACAGAAAAAAGCCCGCACCTGACAGTGCGGGC...</td>\n    </tr>\n    <tr>\n      <th>1</th>\n      <td>TCACAACTATCGATCAACTCATTCTCATTTTTTGCTAAAGTCGGCA...</td>\n    </tr>\n    <tr>\n      <th>2</th>\n      <td>TCATTCTTAGCGTGACCGGGAAGTCGGTCACGCTACCTCTTCTGAA...</td>\n    </tr>\n    <tr>\n      <th>3</th>\n      <td>CGCCAGAATATAGAAGCCACAAAAA</td>\n    </tr>\n    <tr>\n      <th>4</th>\n      <td>TCGCCCTATAAACGGGTAATTATACTGACACGGGCGAAGGGGAATT...</td>\n    </tr>\n    <tr>\n      <th>...</th>\n      <td>...</td>\n    </tr>\n    <tr>\n      <th>666</th>\n      <td>CTGGAGCATGCTCGGTGATAACCAAAAAT</td>\n    </tr>\n    <tr>\n      <th>667</th>\n      <td>ACCCTGCCGATGCGCAACATCCCGGTTGGTTC</td>\n    </tr>\n    <tr>\n      <th>668</th>\n      <td>ACAAGGAATAACAATTGAAGC</td>\n    </tr>\n    <tr>\n      <th>669</th>\n      <td>TTTTTATGAGGCCGACGATGATTACGGCCTCAGGCGACAGGCACAA...</td>\n    </tr>\n    <tr>\n      <th>670</th>\n      <td>GAATTGACTGGAATTTGGGTTTCGAGGCTCTTTGTGCTAAACTGGC...</td>\n    </tr>\n  </tbody>\n</table>\n<p>671 rows × 1 columns</p>\n</div>"
     },
     "execution_count": 4,
     "metadata": {},
     "output_type": "execute_result"
    }
   ],
   "source": [
    "df = pd.read_csv('../data/E_coli_Operon.csv').rename(columns={'Operon': 'operon'})\n",
    "df"
   ],
   "metadata": {
    "collapsed": false,
    "pycharm": {
     "name": "#%%\n"
    }
   }
  },
  {
   "cell_type": "code",
   "execution_count": 5,
   "outputs": [
    {
     "data": {
      "text/plain": "                operon\n6    TCAGGAGTAAAAGAGCC\n11     GGAGAAGATAAGAAA\n53     TGGTGAATTATGAAC\n64   TTTCTCGGCGCGGTCGT\n65     GCGCCTGCTGCCTTT\n..                 ...\n651   CCGATAAAATCCGTAC\n656  GAAATCGCACGTACCGA\n657   TGGCTGGCAGGTGGAG\n661    CAACATCATTCACGC\n665    TTCTGAAAGGTCGTT\n\n[92 rows x 1 columns]",
      "text/html": "<div>\n<style scoped>\n    .dataframe tbody tr th:only-of-type {\n        vertical-align: middle;\n    }\n\n    .dataframe tbody tr th {\n        vertical-align: top;\n    }\n\n    .dataframe thead th {\n        text-align: right;\n    }\n</style>\n<table border=\"1\" class=\"dataframe\">\n  <thead>\n    <tr style=\"text-align: right;\">\n      <th></th>\n      <th>operon</th>\n    </tr>\n  </thead>\n  <tbody>\n    <tr>\n      <th>6</th>\n      <td>TCAGGAGTAAAAGAGCC</td>\n    </tr>\n    <tr>\n      <th>11</th>\n      <td>GGAGAAGATAAGAAA</td>\n    </tr>\n    <tr>\n      <th>53</th>\n      <td>TGGTGAATTATGAAC</td>\n    </tr>\n    <tr>\n      <th>64</th>\n      <td>TTTCTCGGCGCGGTCGT</td>\n    </tr>\n    <tr>\n      <th>65</th>\n      <td>GCGCCTGCTGCCTTT</td>\n    </tr>\n    <tr>\n      <th>...</th>\n      <td>...</td>\n    </tr>\n    <tr>\n      <th>651</th>\n      <td>CCGATAAAATCCGTAC</td>\n    </tr>\n    <tr>\n      <th>656</th>\n      <td>GAAATCGCACGTACCGA</td>\n    </tr>\n    <tr>\n      <th>657</th>\n      <td>TGGCTGGCAGGTGGAG</td>\n    </tr>\n    <tr>\n      <th>661</th>\n      <td>CAACATCATTCACGC</td>\n    </tr>\n    <tr>\n      <th>665</th>\n      <td>TTCTGAAAGGTCGTT</td>\n    </tr>\n  </tbody>\n</table>\n<p>92 rows × 1 columns</p>\n</div>"
     },
     "execution_count": 5,
     "metadata": {},
     "output_type": "execute_result"
    }
   ],
   "source": [
    "# select only operons with length lower than 20\n",
    "df = df.loc[df['operon'].str.len() < 20]\n",
    "df"
   ],
   "metadata": {
    "collapsed": false,
    "pycharm": {
     "name": "#%%\n"
    }
   }
  },
  {
   "cell_type": "code",
   "execution_count": 6,
   "outputs": [
    {
     "data": {
      "text/plain": "          operon_sample    original_operon\n0     AGCGAATACCAAGGATG  TCAGGAGTAAAAGAGCC\n1     AGGAACCCAAAAGGTTG  TCAGGAGTAAAAGAGCC\n2     CAAACAGTGCAGAAGTG  TCAGGAGTAAAAGAGCC\n3     GCAAAAAGTTGGCAACG  TCAGGAGTAAAAGAGCC\n4     AGTAAATCAGCGAGGCA  TCAGGAGTAAAAGAGCC\n...                 ...                ...\n9195    TTGACGAATCGGTTT    TTCTGAAAGGTCGTT\n9196    TGTAAGCAGCTTTGT    TTCTGAAAGGTCGTT\n9197    ACTGGATTCTTATGG    TTCTGAAAGGTCGTT\n9198    GCGTCTTTAAGTGAT    TTCTGAAAGGTCGTT\n9199    CGGGTTAAGTATTCT    TTCTGAAAGGTCGTT\n\n[9200 rows x 2 columns]",
      "text/html": "<div>\n<style scoped>\n    .dataframe tbody tr th:only-of-type {\n        vertical-align: middle;\n    }\n\n    .dataframe tbody tr th {\n        vertical-align: top;\n    }\n\n    .dataframe thead th {\n        text-align: right;\n    }\n</style>\n<table border=\"1\" class=\"dataframe\">\n  <thead>\n    <tr style=\"text-align: right;\">\n      <th></th>\n      <th>operon_sample</th>\n      <th>original_operon</th>\n    </tr>\n  </thead>\n  <tbody>\n    <tr>\n      <th>0</th>\n      <td>AGCGAATACCAAGGATG</td>\n      <td>TCAGGAGTAAAAGAGCC</td>\n    </tr>\n    <tr>\n      <th>1</th>\n      <td>AGGAACCCAAAAGGTTG</td>\n      <td>TCAGGAGTAAAAGAGCC</td>\n    </tr>\n    <tr>\n      <th>2</th>\n      <td>CAAACAGTGCAGAAGTG</td>\n      <td>TCAGGAGTAAAAGAGCC</td>\n    </tr>\n    <tr>\n      <th>3</th>\n      <td>GCAAAAAGTTGGCAACG</td>\n      <td>TCAGGAGTAAAAGAGCC</td>\n    </tr>\n    <tr>\n      <th>4</th>\n      <td>AGTAAATCAGCGAGGCA</td>\n      <td>TCAGGAGTAAAAGAGCC</td>\n    </tr>\n    <tr>\n      <th>...</th>\n      <td>...</td>\n      <td>...</td>\n    </tr>\n    <tr>\n      <th>9195</th>\n      <td>TTGACGAATCGGTTT</td>\n      <td>TTCTGAAAGGTCGTT</td>\n    </tr>\n    <tr>\n      <th>9196</th>\n      <td>TGTAAGCAGCTTTGT</td>\n      <td>TTCTGAAAGGTCGTT</td>\n    </tr>\n    <tr>\n      <th>9197</th>\n      <td>ACTGGATTCTTATGG</td>\n      <td>TTCTGAAAGGTCGTT</td>\n    </tr>\n    <tr>\n      <th>9198</th>\n      <td>GCGTCTTTAAGTGAT</td>\n      <td>TTCTGAAAGGTCGTT</td>\n    </tr>\n    <tr>\n      <th>9199</th>\n      <td>CGGGTTAAGTATTCT</td>\n      <td>TTCTGAAAGGTCGTT</td>\n    </tr>\n  </tbody>\n</table>\n<p>9200 rows × 2 columns</p>\n</div>"
     },
     "execution_count": 6,
     "metadata": {},
     "output_type": "execute_result"
    }
   ],
   "source": [
    "# now generate 100 operons for each operon\n",
    "# rules: same length, same characters\n",
    "import random\n",
    "\n",
    "# random.choices(list(df['operon'].head(1)), k=100)6\n",
    "import itertools\n",
    "\n",
    "samples = []\n",
    "\n",
    "\n",
    "def add_sample(row):\n",
    "  v = row['operon']\n",
    "  vs = set()\n",
    "  while len(vs) != 100:\n",
    "    vs.add(''.join(random.sample(v, len(v))))\n",
    "\n",
    "  for s in vs:\n",
    "    samples.append({'operon_sample': s, 'original_operon': v})\n",
    "\n",
    "\n",
    "# first time generate\n",
    "# df.apply(lambda r: add_sample(r), axis=1)\n",
    "# sdf = pd.DataFrame(samples)\n",
    "\n",
    "# then load generated results\n",
    "\n",
    "\n",
    "sdf = pd.read_csv('../data/E_coli_Operon_samples.csv')\n",
    "sdf"
   ],
   "metadata": {
    "collapsed": false,
    "pycharm": {
     "name": "#%%\n"
    }
   }
  },
  {
   "cell_type": "code",
   "execution_count": 7,
   "outputs": [
    {
     "data": {
      "text/plain": "'TATG_count, ATTT_count1, ACTT_count1, TCCT_count2, AAGA_count, GA_count, AGA_count1, fold_window_39, cai, CTA_count, shinedal_sliding_12, TTGC_count2, CTT_count, CTAA_count2, ATAA_count, GGAG_count1, GA_count2, CCT_count, TT_count, AGGG_count, shinedal_sliding_11, CT_count2, TATG_count2, shinedal_sliding_20, TCGA_count1, CCAT_count, GCAA_count1'"
     },
     "execution_count": 7,
     "metadata": {},
     "output_type": "execute_result"
    }
   ],
   "source": [
    "# now generate the following features on the operons\n",
    "with open('../data/selected_features.json') as f:\n",
    "  features_to_generate = [s.strip('group_') for s in json.load(f)]\n",
    "\", \".join(features_to_generate)"
   ],
   "metadata": {
    "collapsed": false,
    "pycharm": {
     "name": "#%%\n"
    }
   }
  },
  {
   "cell_type": "code",
   "execution_count": 8,
   "outputs": [],
   "source": [
    "count_nucs = np.vectorize(utils.count_nucs_sliding)\n",
    "\n",
    "for frame in [0, 1, 2]:\n",
    "  for nucs_count in [2, 3, 4]:\n",
    "    cdf = pd.Series(count_nucs(df.operon, nucs_count=nucs_count, frame=frame, on='operon')).apply(pd.Series).fillna(0)\n",
    "    df = df.merge(cdf, on='operon', how='left')\n",
    "\n",
    "    csdf = pd.Series(count_nucs(sdf.operon_sample, nucs_count=nucs_count, frame=frame, on='operon_sample')).apply(\n",
    "      pd.Series).fillna(0)\n",
    "    sdf = sdf.merge(csdf, on='operon_sample', how='left')\n",
    "\n",
    "# we will remove unecessary features later"
   ],
   "metadata": {
    "collapsed": false,
    "pycharm": {
     "name": "#%%\n"
    }
   }
  },
  {
   "cell_type": "code",
   "execution_count": 9,
   "outputs": [
    {
     "data": {
      "text/plain": "{'cai',\n 'fold_window_39',\n 'shinedal_sliding_11',\n 'shinedal_sliding_12',\n 'shinedal_sliding_20'}"
     },
     "execution_count": 9,
     "metadata": {},
     "output_type": "execute_result"
    }
   ],
   "source": [
    "# we need those as well\n",
    "set(features_to_generate) - set(df.columns)"
   ],
   "metadata": {
    "collapsed": false,
    "pycharm": {
     "name": "#%%\n"
    }
   }
  },
  {
   "cell_type": "code",
   "execution_count": 10,
   "outputs": [
    {
     "data": {
      "text/plain": "    AAAA_count  AAAA_count1  AAAA_count2  AAAC_count  AAAC_count1  \\\n0          1.0          1.0          1.0         0.0          0.0   \n1          0.0          0.0          0.0         0.0          0.0   \n2          0.0          0.0          0.0         0.0          0.0   \n3          0.0          0.0          0.0         0.0          0.0   \n4          0.0          0.0          0.0         0.0          0.0   \n..         ...          ...          ...         ...          ...   \n87         1.0          1.0          1.0         0.0          0.0   \n88         0.0          0.0          0.0         0.0          0.0   \n89         0.0          0.0          0.0         0.0          0.0   \n90         0.0          0.0          0.0         0.0          0.0   \n91         0.0          0.0          0.0         0.0          0.0   \n\n    AAAC_count2  AAAG_count  AAAG_count1  AAAG_count2  AAAT_count  ...  \\\n0           0.0         1.0          1.0          1.0         0.0  ...   \n1           0.0         0.0          0.0          0.0         0.0  ...   \n2           0.0         0.0          0.0          0.0         0.0  ...   \n3           0.0         0.0          0.0          0.0         0.0  ...   \n4           0.0         0.0          0.0          0.0         0.0  ...   \n..          ...         ...          ...          ...         ...  ...   \n87          0.0         0.0          0.0          0.0         1.0  ...   \n88          0.0         0.0          0.0          0.0         1.0  ...   \n89          0.0         0.0          0.0          0.0         0.0  ...   \n90          0.0         0.0          0.0          0.0         0.0  ...   \n91          0.0         1.0          1.0          1.0         0.0  ...   \n\n    shinedal_sliding_12  shinedal_sliding_13  shinedal_sliding_2  \\\n0                   0.0                  0.0                -0.7   \n1                   0.0                  0.0                 0.0   \n2                   0.0                  0.0                 0.0   \n3                   0.0                  0.0                 0.0   \n4                   0.0                  0.0                -4.3   \n..                  ...                  ...                 ...   \n87                  0.0                  0.0                -3.3   \n88                  0.0                  0.0                 0.0   \n89                  0.0                  0.0                -0.1   \n90                  0.0                  0.0                -0.5   \n91                  0.0                  0.0                -0.2   \n\n    shinedal_sliding_3  shinedal_sliding_4  shinedal_sliding_5  \\\n0                  0.0                 0.0                 0.0   \n1                  0.0                 0.0                 0.0   \n2                  0.0                 0.0                 0.0   \n3                 -1.9                 0.0                 0.0   \n4                 -2.7                -3.1                -1.0   \n..                 ...                 ...                 ...   \n87                 0.0                 0.0                -2.1   \n88                -1.7                -0.2                -0.2   \n89                 0.0                 0.0                 0.0   \n90                 0.0                -0.5                 0.0   \n91                 0.0                -0.2                 0.0   \n\n    shinedal_sliding_6  shinedal_sliding_7  shinedal_sliding_8  \\\n0                  0.0                 0.0                 0.0   \n1                  0.0                 0.0                 0.0   \n2                  0.0                 0.0                 0.0   \n3                  0.0                -0.2                -3.5   \n4                 -2.3                -2.8                -2.9   \n..                 ...                 ...                 ...   \n87                -1.7                -3.3                 0.0   \n88                -1.7                 0.0                 0.0   \n89                -0.1                 0.0                 0.0   \n90                 0.0                 0.0                 0.0   \n91                -1.3                 0.0                -0.7   \n\n    shinedal_sliding_9  \n0                  0.0  \n1                  0.0  \n2                  0.0  \n3                 -3.5  \n4                 -3.1  \n..                 ...  \n87                 0.0  \n88                -0.5  \n89                 0.0  \n90                -0.6  \n91                -0.2  \n\n[92 rows x 993 columns]",
      "text/html": "<div>\n<style scoped>\n    .dataframe tbody tr th:only-of-type {\n        vertical-align: middle;\n    }\n\n    .dataframe tbody tr th {\n        vertical-align: top;\n    }\n\n    .dataframe thead th {\n        text-align: right;\n    }\n</style>\n<table border=\"1\" class=\"dataframe\">\n  <thead>\n    <tr style=\"text-align: right;\">\n      <th></th>\n      <th>AAAA_count</th>\n      <th>AAAA_count1</th>\n      <th>AAAA_count2</th>\n      <th>AAAC_count</th>\n      <th>AAAC_count1</th>\n      <th>AAAC_count2</th>\n      <th>AAAG_count</th>\n      <th>AAAG_count1</th>\n      <th>AAAG_count2</th>\n      <th>AAAT_count</th>\n      <th>...</th>\n      <th>shinedal_sliding_12</th>\n      <th>shinedal_sliding_13</th>\n      <th>shinedal_sliding_2</th>\n      <th>shinedal_sliding_3</th>\n      <th>shinedal_sliding_4</th>\n      <th>shinedal_sliding_5</th>\n      <th>shinedal_sliding_6</th>\n      <th>shinedal_sliding_7</th>\n      <th>shinedal_sliding_8</th>\n      <th>shinedal_sliding_9</th>\n    </tr>\n  </thead>\n  <tbody>\n    <tr>\n      <th>0</th>\n      <td>1.0</td>\n      <td>1.0</td>\n      <td>1.0</td>\n      <td>0.0</td>\n      <td>0.0</td>\n      <td>0.0</td>\n      <td>1.0</td>\n      <td>1.0</td>\n      <td>1.0</td>\n      <td>0.0</td>\n      <td>...</td>\n      <td>0.0</td>\n      <td>0.0</td>\n      <td>-0.7</td>\n      <td>0.0</td>\n      <td>0.0</td>\n      <td>0.0</td>\n      <td>0.0</td>\n      <td>0.0</td>\n      <td>0.0</td>\n      <td>0.0</td>\n    </tr>\n    <tr>\n      <th>1</th>\n      <td>0.0</td>\n      <td>0.0</td>\n      <td>0.0</td>\n      <td>0.0</td>\n      <td>0.0</td>\n      <td>0.0</td>\n      <td>0.0</td>\n      <td>0.0</td>\n      <td>0.0</td>\n      <td>0.0</td>\n      <td>...</td>\n      <td>0.0</td>\n      <td>0.0</td>\n      <td>0.0</td>\n      <td>0.0</td>\n      <td>0.0</td>\n      <td>0.0</td>\n      <td>0.0</td>\n      <td>0.0</td>\n      <td>0.0</td>\n      <td>0.0</td>\n    </tr>\n    <tr>\n      <th>2</th>\n      <td>0.0</td>\n      <td>0.0</td>\n      <td>0.0</td>\n      <td>0.0</td>\n      <td>0.0</td>\n      <td>0.0</td>\n      <td>0.0</td>\n      <td>0.0</td>\n      <td>0.0</td>\n      <td>0.0</td>\n      <td>...</td>\n      <td>0.0</td>\n      <td>0.0</td>\n      <td>0.0</td>\n      <td>0.0</td>\n      <td>0.0</td>\n      <td>0.0</td>\n      <td>0.0</td>\n      <td>0.0</td>\n      <td>0.0</td>\n      <td>0.0</td>\n    </tr>\n    <tr>\n      <th>3</th>\n      <td>0.0</td>\n      <td>0.0</td>\n      <td>0.0</td>\n      <td>0.0</td>\n      <td>0.0</td>\n      <td>0.0</td>\n      <td>0.0</td>\n      <td>0.0</td>\n      <td>0.0</td>\n      <td>0.0</td>\n      <td>...</td>\n      <td>0.0</td>\n      <td>0.0</td>\n      <td>0.0</td>\n      <td>-1.9</td>\n      <td>0.0</td>\n      <td>0.0</td>\n      <td>0.0</td>\n      <td>-0.2</td>\n      <td>-3.5</td>\n      <td>-3.5</td>\n    </tr>\n    <tr>\n      <th>4</th>\n      <td>0.0</td>\n      <td>0.0</td>\n      <td>0.0</td>\n      <td>0.0</td>\n      <td>0.0</td>\n      <td>0.0</td>\n      <td>0.0</td>\n      <td>0.0</td>\n      <td>0.0</td>\n      <td>0.0</td>\n      <td>...</td>\n      <td>0.0</td>\n      <td>0.0</td>\n      <td>-4.3</td>\n      <td>-2.7</td>\n      <td>-3.1</td>\n      <td>-1.0</td>\n      <td>-2.3</td>\n      <td>-2.8</td>\n      <td>-2.9</td>\n      <td>-3.1</td>\n    </tr>\n    <tr>\n      <th>...</th>\n      <td>...</td>\n      <td>...</td>\n      <td>...</td>\n      <td>...</td>\n      <td>...</td>\n      <td>...</td>\n      <td>...</td>\n      <td>...</td>\n      <td>...</td>\n      <td>...</td>\n      <td>...</td>\n      <td>...</td>\n      <td>...</td>\n      <td>...</td>\n      <td>...</td>\n      <td>...</td>\n      <td>...</td>\n      <td>...</td>\n      <td>...</td>\n      <td>...</td>\n      <td>...</td>\n    </tr>\n    <tr>\n      <th>87</th>\n      <td>1.0</td>\n      <td>1.0</td>\n      <td>1.0</td>\n      <td>0.0</td>\n      <td>0.0</td>\n      <td>0.0</td>\n      <td>0.0</td>\n      <td>0.0</td>\n      <td>0.0</td>\n      <td>1.0</td>\n      <td>...</td>\n      <td>0.0</td>\n      <td>0.0</td>\n      <td>-3.3</td>\n      <td>0.0</td>\n      <td>0.0</td>\n      <td>-2.1</td>\n      <td>-1.7</td>\n      <td>-3.3</td>\n      <td>0.0</td>\n      <td>0.0</td>\n    </tr>\n    <tr>\n      <th>88</th>\n      <td>0.0</td>\n      <td>0.0</td>\n      <td>0.0</td>\n      <td>0.0</td>\n      <td>0.0</td>\n      <td>0.0</td>\n      <td>0.0</td>\n      <td>0.0</td>\n      <td>0.0</td>\n      <td>1.0</td>\n      <td>...</td>\n      <td>0.0</td>\n      <td>0.0</td>\n      <td>0.0</td>\n      <td>-1.7</td>\n      <td>-0.2</td>\n      <td>-0.2</td>\n      <td>-1.7</td>\n      <td>0.0</td>\n      <td>0.0</td>\n      <td>-0.5</td>\n    </tr>\n    <tr>\n      <th>89</th>\n      <td>0.0</td>\n      <td>0.0</td>\n      <td>0.0</td>\n      <td>0.0</td>\n      <td>0.0</td>\n      <td>0.0</td>\n      <td>0.0</td>\n      <td>0.0</td>\n      <td>0.0</td>\n      <td>0.0</td>\n      <td>...</td>\n      <td>0.0</td>\n      <td>0.0</td>\n      <td>-0.1</td>\n      <td>0.0</td>\n      <td>0.0</td>\n      <td>0.0</td>\n      <td>-0.1</td>\n      <td>0.0</td>\n      <td>0.0</td>\n      <td>0.0</td>\n    </tr>\n    <tr>\n      <th>90</th>\n      <td>0.0</td>\n      <td>0.0</td>\n      <td>0.0</td>\n      <td>0.0</td>\n      <td>0.0</td>\n      <td>0.0</td>\n      <td>0.0</td>\n      <td>0.0</td>\n      <td>0.0</td>\n      <td>0.0</td>\n      <td>...</td>\n      <td>0.0</td>\n      <td>0.0</td>\n      <td>-0.5</td>\n      <td>0.0</td>\n      <td>-0.5</td>\n      <td>0.0</td>\n      <td>0.0</td>\n      <td>0.0</td>\n      <td>0.0</td>\n      <td>-0.6</td>\n    </tr>\n    <tr>\n      <th>91</th>\n      <td>0.0</td>\n      <td>0.0</td>\n      <td>0.0</td>\n      <td>0.0</td>\n      <td>0.0</td>\n      <td>0.0</td>\n      <td>1.0</td>\n      <td>1.0</td>\n      <td>1.0</td>\n      <td>0.0</td>\n      <td>...</td>\n      <td>0.0</td>\n      <td>0.0</td>\n      <td>-0.2</td>\n      <td>0.0</td>\n      <td>-0.2</td>\n      <td>0.0</td>\n      <td>-1.3</td>\n      <td>0.0</td>\n      <td>-0.7</td>\n      <td>-0.2</td>\n    </tr>\n  </tbody>\n</table>\n<p>92 rows × 993 columns</p>\n</div>"
     },
     "execution_count": 10,
     "metadata": {},
     "output_type": "execute_result"
    }
   ],
   "source": [
    "with open('../data/shinedalgarno.json') as f:\n",
    "  shinedalgarno_mapping = json.load(f)\n",
    "\n",
    "shinedalgarno_mapping = {r['seq'].replace('AGGAGG&', ''): r['value'] for r in shinedalgarno_mapping}\n",
    "\n",
    "\n",
    "def apply_map_shinedalgarno_to_parts(row, name):\n",
    "  total = 0\n",
    "\n",
    "  seq = row[name]\n",
    "  parts = set()\n",
    "  for i in range(len(seq)):\n",
    "    if len(p := seq[i:i + 6]) == 6:\n",
    "      parts.add(p)\n",
    "\n",
    "  for i, part in enumerate(parts):\n",
    "    val = shinedalgarno_mapping[part]\n",
    "    total += val\n",
    "    row[f'shinedal_sliding_{i}'] = val\n",
    "\n",
    "  row['shindal_mean'] = total / len(parts)\n",
    "\n",
    "  return row\n",
    "\n",
    "\n",
    "df = df.apply(lambda r: apply_map_shinedalgarno_to_parts(r, 'operon'), axis=1).fillna(0)\n",
    "sdf = sdf.apply(lambda r: apply_map_shinedalgarno_to_parts(r, 'operon_sample'), axis=1).fillna(0)\n",
    "df\n",
    "\n",
    "# we will remove unecessary features later"
   ],
   "metadata": {
    "collapsed": false,
    "pycharm": {
     "name": "#%%\n"
    }
   }
  },
  {
   "cell_type": "code",
   "execution_count": 11,
   "outputs": [
    {
     "data": {
      "text/plain": "               operon  TCCT_count2  shinedal_sliding_12  CTT_count  \\\n0   TCAGGAGTAAAAGAGCC          0.0                  0.0        0.0   \n1     GGAGAAGATAAGAAA          0.0                  0.0        0.0   \n2     TGGTGAATTATGAAC          0.0                  0.0        0.0   \n3   TTTCTCGGCGCGGTCGT          0.0                  0.0        0.0   \n4     GCGCCTGCTGCCTTT          0.0                  0.0        1.0   \n..                ...          ...                  ...        ...   \n87   CCGATAAAATCCGTAC          0.0                  0.0        0.0   \n88  GAAATCGCACGTACCGA          0.0                  0.0        0.0   \n89   TGGCTGGCAGGTGGAG          0.0                  0.0        0.0   \n90    CAACATCATTCACGC          0.0                  0.0        0.0   \n91    TTCTGAAAGGTCGTT          0.0                  0.0        0.0   \n\n    CCAT_count  TCGA_count1  GA_count  GCAA_count1  TATG_count  GGAG_count1  \\\n0          0.0          0.0       2.0          0.0         0.0          1.0   \n1          0.0          0.0       4.0          0.0         0.0          0.0   \n2          0.0          0.0       2.0          0.0         1.0          0.0   \n3          0.0          0.0       0.0          0.0         0.0          0.0   \n4          0.0          0.0       0.0          0.0         0.0          0.0   \n..         ...          ...       ...          ...         ...          ...   \n87         0.0          0.0       1.0          0.0         0.0          0.0   \n88         0.0          0.0       2.0          0.0         0.0          0.0   \n89         0.0          0.0       1.0          0.0         0.0          1.0   \n90         0.0          0.0       0.0          0.0         0.0          0.0   \n91         0.0          0.0       1.0          0.0         0.0          0.0   \n\n    ...  ATTT_count1  AGGG_count  TTGC_count2  TATG_count2  \\\n0   ...          0.0         0.0          0.0          0.0   \n1   ...          0.0         0.0          0.0          0.0   \n2   ...          0.0         0.0          0.0          1.0   \n3   ...          0.0         0.0          0.0          0.0   \n4   ...          0.0         0.0          0.0          0.0   \n..  ...          ...         ...          ...          ...   \n87  ...          0.0         0.0          0.0          0.0   \n88  ...          0.0         0.0          0.0          0.0   \n89  ...          0.0         0.0          0.0          0.0   \n90  ...          0.0         0.0          0.0          0.0   \n91  ...          0.0         0.0          0.0          0.0   \n\n    shinedal_sliding_11  CTAA_count2  CT_count2  CCT_count  CTA_count  \\\n0                   0.0          0.0        0.0        0.0        0.0   \n1                   0.0          0.0        0.0        0.0        0.0   \n2                   0.0          0.0        0.0        0.0        0.0   \n3                  -0.2          0.0        1.0        0.0        0.0   \n4                   0.0          0.0        3.0        2.0        0.0   \n..                  ...          ...        ...        ...        ...   \n87                  0.0          0.0        0.0        0.0        0.0   \n88                 -0.2          0.0        0.0        0.0        0.0   \n89                  0.0          0.0        1.0        0.0        0.0   \n90                  0.0          0.0        0.0        0.0        0.0   \n91                  0.0          0.0        1.0        0.0        0.0   \n\n    GA_count2  \n0         2.0  \n1         3.0  \n2         2.0  \n3         0.0  \n4         0.0  \n..        ...  \n87        1.0  \n88        1.0  \n89        1.0  \n90        0.0  \n91        1.0  \n\n[92 rows x 25 columns]",
      "text/html": "<div>\n<style scoped>\n    .dataframe tbody tr th:only-of-type {\n        vertical-align: middle;\n    }\n\n    .dataframe tbody tr th {\n        vertical-align: top;\n    }\n\n    .dataframe thead th {\n        text-align: right;\n    }\n</style>\n<table border=\"1\" class=\"dataframe\">\n  <thead>\n    <tr style=\"text-align: right;\">\n      <th></th>\n      <th>operon</th>\n      <th>TCCT_count2</th>\n      <th>shinedal_sliding_12</th>\n      <th>CTT_count</th>\n      <th>CCAT_count</th>\n      <th>TCGA_count1</th>\n      <th>GA_count</th>\n      <th>GCAA_count1</th>\n      <th>TATG_count</th>\n      <th>GGAG_count1</th>\n      <th>...</th>\n      <th>ATTT_count1</th>\n      <th>AGGG_count</th>\n      <th>TTGC_count2</th>\n      <th>TATG_count2</th>\n      <th>shinedal_sliding_11</th>\n      <th>CTAA_count2</th>\n      <th>CT_count2</th>\n      <th>CCT_count</th>\n      <th>CTA_count</th>\n      <th>GA_count2</th>\n    </tr>\n  </thead>\n  <tbody>\n    <tr>\n      <th>0</th>\n      <td>TCAGGAGTAAAAGAGCC</td>\n      <td>0.0</td>\n      <td>0.0</td>\n      <td>0.0</td>\n      <td>0.0</td>\n      <td>0.0</td>\n      <td>2.0</td>\n      <td>0.0</td>\n      <td>0.0</td>\n      <td>1.0</td>\n      <td>...</td>\n      <td>0.0</td>\n      <td>0.0</td>\n      <td>0.0</td>\n      <td>0.0</td>\n      <td>0.0</td>\n      <td>0.0</td>\n      <td>0.0</td>\n      <td>0.0</td>\n      <td>0.0</td>\n      <td>2.0</td>\n    </tr>\n    <tr>\n      <th>1</th>\n      <td>GGAGAAGATAAGAAA</td>\n      <td>0.0</td>\n      <td>0.0</td>\n      <td>0.0</td>\n      <td>0.0</td>\n      <td>0.0</td>\n      <td>4.0</td>\n      <td>0.0</td>\n      <td>0.0</td>\n      <td>0.0</td>\n      <td>...</td>\n      <td>0.0</td>\n      <td>0.0</td>\n      <td>0.0</td>\n      <td>0.0</td>\n      <td>0.0</td>\n      <td>0.0</td>\n      <td>0.0</td>\n      <td>0.0</td>\n      <td>0.0</td>\n      <td>3.0</td>\n    </tr>\n    <tr>\n      <th>2</th>\n      <td>TGGTGAATTATGAAC</td>\n      <td>0.0</td>\n      <td>0.0</td>\n      <td>0.0</td>\n      <td>0.0</td>\n      <td>0.0</td>\n      <td>2.0</td>\n      <td>0.0</td>\n      <td>1.0</td>\n      <td>0.0</td>\n      <td>...</td>\n      <td>0.0</td>\n      <td>0.0</td>\n      <td>0.0</td>\n      <td>1.0</td>\n      <td>0.0</td>\n      <td>0.0</td>\n      <td>0.0</td>\n      <td>0.0</td>\n      <td>0.0</td>\n      <td>2.0</td>\n    </tr>\n    <tr>\n      <th>3</th>\n      <td>TTTCTCGGCGCGGTCGT</td>\n      <td>0.0</td>\n      <td>0.0</td>\n      <td>0.0</td>\n      <td>0.0</td>\n      <td>0.0</td>\n      <td>0.0</td>\n      <td>0.0</td>\n      <td>0.0</td>\n      <td>0.0</td>\n      <td>...</td>\n      <td>0.0</td>\n      <td>0.0</td>\n      <td>0.0</td>\n      <td>0.0</td>\n      <td>-0.2</td>\n      <td>0.0</td>\n      <td>1.0</td>\n      <td>0.0</td>\n      <td>0.0</td>\n      <td>0.0</td>\n    </tr>\n    <tr>\n      <th>4</th>\n      <td>GCGCCTGCTGCCTTT</td>\n      <td>0.0</td>\n      <td>0.0</td>\n      <td>1.0</td>\n      <td>0.0</td>\n      <td>0.0</td>\n      <td>0.0</td>\n      <td>0.0</td>\n      <td>0.0</td>\n      <td>0.0</td>\n      <td>...</td>\n      <td>0.0</td>\n      <td>0.0</td>\n      <td>0.0</td>\n      <td>0.0</td>\n      <td>0.0</td>\n      <td>0.0</td>\n      <td>3.0</td>\n      <td>2.0</td>\n      <td>0.0</td>\n      <td>0.0</td>\n    </tr>\n    <tr>\n      <th>...</th>\n      <td>...</td>\n      <td>...</td>\n      <td>...</td>\n      <td>...</td>\n      <td>...</td>\n      <td>...</td>\n      <td>...</td>\n      <td>...</td>\n      <td>...</td>\n      <td>...</td>\n      <td>...</td>\n      <td>...</td>\n      <td>...</td>\n      <td>...</td>\n      <td>...</td>\n      <td>...</td>\n      <td>...</td>\n      <td>...</td>\n      <td>...</td>\n      <td>...</td>\n      <td>...</td>\n    </tr>\n    <tr>\n      <th>87</th>\n      <td>CCGATAAAATCCGTAC</td>\n      <td>0.0</td>\n      <td>0.0</td>\n      <td>0.0</td>\n      <td>0.0</td>\n      <td>0.0</td>\n      <td>1.0</td>\n      <td>0.0</td>\n      <td>0.0</td>\n      <td>0.0</td>\n      <td>...</td>\n      <td>0.0</td>\n      <td>0.0</td>\n      <td>0.0</td>\n      <td>0.0</td>\n      <td>0.0</td>\n      <td>0.0</td>\n      <td>0.0</td>\n      <td>0.0</td>\n      <td>0.0</td>\n      <td>1.0</td>\n    </tr>\n    <tr>\n      <th>88</th>\n      <td>GAAATCGCACGTACCGA</td>\n      <td>0.0</td>\n      <td>0.0</td>\n      <td>0.0</td>\n      <td>0.0</td>\n      <td>0.0</td>\n      <td>2.0</td>\n      <td>0.0</td>\n      <td>0.0</td>\n      <td>0.0</td>\n      <td>...</td>\n      <td>0.0</td>\n      <td>0.0</td>\n      <td>0.0</td>\n      <td>0.0</td>\n      <td>-0.2</td>\n      <td>0.0</td>\n      <td>0.0</td>\n      <td>0.0</td>\n      <td>0.0</td>\n      <td>1.0</td>\n    </tr>\n    <tr>\n      <th>89</th>\n      <td>TGGCTGGCAGGTGGAG</td>\n      <td>0.0</td>\n      <td>0.0</td>\n      <td>0.0</td>\n      <td>0.0</td>\n      <td>0.0</td>\n      <td>1.0</td>\n      <td>0.0</td>\n      <td>0.0</td>\n      <td>1.0</td>\n      <td>...</td>\n      <td>0.0</td>\n      <td>0.0</td>\n      <td>0.0</td>\n      <td>0.0</td>\n      <td>0.0</td>\n      <td>0.0</td>\n      <td>1.0</td>\n      <td>0.0</td>\n      <td>0.0</td>\n      <td>1.0</td>\n    </tr>\n    <tr>\n      <th>90</th>\n      <td>CAACATCATTCACGC</td>\n      <td>0.0</td>\n      <td>0.0</td>\n      <td>0.0</td>\n      <td>0.0</td>\n      <td>0.0</td>\n      <td>0.0</td>\n      <td>0.0</td>\n      <td>0.0</td>\n      <td>0.0</td>\n      <td>...</td>\n      <td>0.0</td>\n      <td>0.0</td>\n      <td>0.0</td>\n      <td>0.0</td>\n      <td>0.0</td>\n      <td>0.0</td>\n      <td>0.0</td>\n      <td>0.0</td>\n      <td>0.0</td>\n      <td>0.0</td>\n    </tr>\n    <tr>\n      <th>91</th>\n      <td>TTCTGAAAGGTCGTT</td>\n      <td>0.0</td>\n      <td>0.0</td>\n      <td>0.0</td>\n      <td>0.0</td>\n      <td>0.0</td>\n      <td>1.0</td>\n      <td>0.0</td>\n      <td>0.0</td>\n      <td>0.0</td>\n      <td>...</td>\n      <td>0.0</td>\n      <td>0.0</td>\n      <td>0.0</td>\n      <td>0.0</td>\n      <td>0.0</td>\n      <td>0.0</td>\n      <td>1.0</td>\n      <td>0.0</td>\n      <td>0.0</td>\n      <td>1.0</td>\n    </tr>\n  </tbody>\n</table>\n<p>92 rows × 25 columns</p>\n</div>"
     },
     "execution_count": 11,
     "metadata": {},
     "output_type": "execute_result"
    }
   ],
   "source": [
    "# keep only necessary features\n",
    "df = df[['operon', *set(features_to_generate).intersection(list(df.columns))]]\n",
    "sdf = sdf[['operon_sample', 'original_operon', *set(features_to_generate).intersection(list(sdf.columns))]]\n",
    "df"
   ],
   "metadata": {
    "collapsed": false,
    "pycharm": {
     "name": "#%%\n"
    }
   }
  },
  {
   "cell_type": "code",
   "execution_count": 12,
   "outputs": [
    {
     "data": {
      "text/plain": "{'operon_sample', 'original_operon'}"
     },
     "execution_count": 12,
     "metadata": {},
     "output_type": "execute_result"
    }
   ],
   "source": [
    "set(sdf.columns) - set(df.columns)"
   ],
   "metadata": {
    "collapsed": false,
    "pycharm": {
     "name": "#%%\n"
    }
   }
  },
  {
   "cell_type": "code",
   "execution_count": 13,
   "outputs": [
    {
     "data": {
      "text/plain": "          operon_sample    original_operon  TCCT_count2  shinedal_sliding_12  \\\n0     AGCGAATACCAAGGATG  TCAGGAGTAAAAGAGCC          0.0                  0.0   \n1     AGGAACCCAAAAGGTTG  TCAGGAGTAAAAGAGCC          0.0                  0.0   \n2     CAAACAGTGCAGAAGTG  TCAGGAGTAAAAGAGCC          0.0                  0.0   \n3     GCAAAAAGTTGGCAACG  TCAGGAGTAAAAGAGCC          0.0                  0.0   \n4     AGTAAATCAGCGAGGCA  TCAGGAGTAAAAGAGCC          0.0                  0.0   \n...                 ...                ...          ...                  ...   \n9195    TTGACGAATCGGTTT    TTCTGAAAGGTCGTT          0.0                  0.0   \n9196    TGTAAGCAGCTTTGT    TTCTGAAAGGTCGTT          0.0                  0.0   \n9197    ACTGGATTCTTATGG    TTCTGAAAGGTCGTT          0.0                  0.0   \n9198    GCGTCTTTAAGTGAT    TTCTGAAAGGTCGTT          0.0                  0.0   \n9199    CGGGTTAAGTATTCT    TTCTGAAAGGTCGTT          0.0                  0.0   \n\n      CTT_count  CCAT_count  TCGA_count1  GA_count  GCAA_count1  TATG_count  \\\n0           0.0         0.0          0.0       2.0          0.0         0.0   \n1           0.0         0.0          0.0       1.0          0.0         0.0   \n2           0.0         0.0          0.0       1.0          0.0         0.0   \n3           0.0         0.0          0.0       0.0          1.0         0.0   \n4           0.0         0.0          0.0       1.0          0.0         0.0   \n...         ...         ...          ...       ...          ...         ...   \n9195        0.0         0.0          0.0       2.0          0.0         0.0   \n9196        1.0         0.0          0.0       0.0          0.0         0.0   \n9197        1.0         0.0          0.0       1.0          0.0         1.0   \n9198        1.0         0.0          0.0       1.0          0.0         0.0   \n9199        0.0         0.0          0.0       0.0          0.0         0.0   \n\n      ...  ATTT_count1  AGGG_count  TTGC_count2  TATG_count2  \\\n0     ...          0.0         0.0          0.0          0.0   \n1     ...          0.0         0.0          0.0          0.0   \n2     ...          0.0         0.0          0.0          0.0   \n3     ...          0.0         0.0          0.0          0.0   \n4     ...          0.0         0.0          0.0          0.0   \n...   ...          ...         ...          ...          ...   \n9195  ...          0.0         0.0          0.0          0.0   \n9196  ...          0.0         0.0          0.0          0.0   \n9197  ...          0.0         0.0          0.0          1.0   \n9198  ...          0.0         0.0          0.0          0.0   \n9199  ...          0.0         0.0          0.0          0.0   \n\n      shinedal_sliding_11  CTAA_count2  CT_count2  CCT_count  CTA_count  \\\n0                    -1.8          0.0        0.0        0.0        0.0   \n1                    -1.8          0.0        0.0        0.0        0.0   \n2                     0.0          0.0        0.0        0.0        0.0   \n3                     0.0          0.0        0.0        0.0        0.0   \n4                     0.0          0.0        0.0        0.0        0.0   \n...                   ...          ...        ...        ...        ...   \n9195                  0.0          0.0        0.0        0.0        0.0   \n9196                  0.0          0.0        1.0        0.0        0.0   \n9197                  0.0          0.0        1.0        0.0        0.0   \n9198                  0.0          0.0        1.0        0.0        0.0   \n9199                  0.0          0.0        1.0        0.0        0.0   \n\n      GA_count2  \n0           2.0  \n1           1.0  \n2           1.0  \n3           0.0  \n4           1.0  \n...         ...  \n9195        2.0  \n9196        0.0  \n9197        1.0  \n9198        1.0  \n9199        0.0  \n\n[9200 rows x 26 columns]",
      "text/html": "<div>\n<style scoped>\n    .dataframe tbody tr th:only-of-type {\n        vertical-align: middle;\n    }\n\n    .dataframe tbody tr th {\n        vertical-align: top;\n    }\n\n    .dataframe thead th {\n        text-align: right;\n    }\n</style>\n<table border=\"1\" class=\"dataframe\">\n  <thead>\n    <tr style=\"text-align: right;\">\n      <th></th>\n      <th>operon_sample</th>\n      <th>original_operon</th>\n      <th>TCCT_count2</th>\n      <th>shinedal_sliding_12</th>\n      <th>CTT_count</th>\n      <th>CCAT_count</th>\n      <th>TCGA_count1</th>\n      <th>GA_count</th>\n      <th>GCAA_count1</th>\n      <th>TATG_count</th>\n      <th>...</th>\n      <th>ATTT_count1</th>\n      <th>AGGG_count</th>\n      <th>TTGC_count2</th>\n      <th>TATG_count2</th>\n      <th>shinedal_sliding_11</th>\n      <th>CTAA_count2</th>\n      <th>CT_count2</th>\n      <th>CCT_count</th>\n      <th>CTA_count</th>\n      <th>GA_count2</th>\n    </tr>\n  </thead>\n  <tbody>\n    <tr>\n      <th>0</th>\n      <td>AGCGAATACCAAGGATG</td>\n      <td>TCAGGAGTAAAAGAGCC</td>\n      <td>0.0</td>\n      <td>0.0</td>\n      <td>0.0</td>\n      <td>0.0</td>\n      <td>0.0</td>\n      <td>2.0</td>\n      <td>0.0</td>\n      <td>0.0</td>\n      <td>...</td>\n      <td>0.0</td>\n      <td>0.0</td>\n      <td>0.0</td>\n      <td>0.0</td>\n      <td>-1.8</td>\n      <td>0.0</td>\n      <td>0.0</td>\n      <td>0.0</td>\n      <td>0.0</td>\n      <td>2.0</td>\n    </tr>\n    <tr>\n      <th>1</th>\n      <td>AGGAACCCAAAAGGTTG</td>\n      <td>TCAGGAGTAAAAGAGCC</td>\n      <td>0.0</td>\n      <td>0.0</td>\n      <td>0.0</td>\n      <td>0.0</td>\n      <td>0.0</td>\n      <td>1.0</td>\n      <td>0.0</td>\n      <td>0.0</td>\n      <td>...</td>\n      <td>0.0</td>\n      <td>0.0</td>\n      <td>0.0</td>\n      <td>0.0</td>\n      <td>-1.8</td>\n      <td>0.0</td>\n      <td>0.0</td>\n      <td>0.0</td>\n      <td>0.0</td>\n      <td>1.0</td>\n    </tr>\n    <tr>\n      <th>2</th>\n      <td>CAAACAGTGCAGAAGTG</td>\n      <td>TCAGGAGTAAAAGAGCC</td>\n      <td>0.0</td>\n      <td>0.0</td>\n      <td>0.0</td>\n      <td>0.0</td>\n      <td>0.0</td>\n      <td>1.0</td>\n      <td>0.0</td>\n      <td>0.0</td>\n      <td>...</td>\n      <td>0.0</td>\n      <td>0.0</td>\n      <td>0.0</td>\n      <td>0.0</td>\n      <td>0.0</td>\n      <td>0.0</td>\n      <td>0.0</td>\n      <td>0.0</td>\n      <td>0.0</td>\n      <td>1.0</td>\n    </tr>\n    <tr>\n      <th>3</th>\n      <td>GCAAAAAGTTGGCAACG</td>\n      <td>TCAGGAGTAAAAGAGCC</td>\n      <td>0.0</td>\n      <td>0.0</td>\n      <td>0.0</td>\n      <td>0.0</td>\n      <td>0.0</td>\n      <td>0.0</td>\n      <td>1.0</td>\n      <td>0.0</td>\n      <td>...</td>\n      <td>0.0</td>\n      <td>0.0</td>\n      <td>0.0</td>\n      <td>0.0</td>\n      <td>0.0</td>\n      <td>0.0</td>\n      <td>0.0</td>\n      <td>0.0</td>\n      <td>0.0</td>\n      <td>0.0</td>\n    </tr>\n    <tr>\n      <th>4</th>\n      <td>AGTAAATCAGCGAGGCA</td>\n      <td>TCAGGAGTAAAAGAGCC</td>\n      <td>0.0</td>\n      <td>0.0</td>\n      <td>0.0</td>\n      <td>0.0</td>\n      <td>0.0</td>\n      <td>1.0</td>\n      <td>0.0</td>\n      <td>0.0</td>\n      <td>...</td>\n      <td>0.0</td>\n      <td>0.0</td>\n      <td>0.0</td>\n      <td>0.0</td>\n      <td>0.0</td>\n      <td>0.0</td>\n      <td>0.0</td>\n      <td>0.0</td>\n      <td>0.0</td>\n      <td>1.0</td>\n    </tr>\n    <tr>\n      <th>...</th>\n      <td>...</td>\n      <td>...</td>\n      <td>...</td>\n      <td>...</td>\n      <td>...</td>\n      <td>...</td>\n      <td>...</td>\n      <td>...</td>\n      <td>...</td>\n      <td>...</td>\n      <td>...</td>\n      <td>...</td>\n      <td>...</td>\n      <td>...</td>\n      <td>...</td>\n      <td>...</td>\n      <td>...</td>\n      <td>...</td>\n      <td>...</td>\n      <td>...</td>\n      <td>...</td>\n    </tr>\n    <tr>\n      <th>9195</th>\n      <td>TTGACGAATCGGTTT</td>\n      <td>TTCTGAAAGGTCGTT</td>\n      <td>0.0</td>\n      <td>0.0</td>\n      <td>0.0</td>\n      <td>0.0</td>\n      <td>0.0</td>\n      <td>2.0</td>\n      <td>0.0</td>\n      <td>0.0</td>\n      <td>...</td>\n      <td>0.0</td>\n      <td>0.0</td>\n      <td>0.0</td>\n      <td>0.0</td>\n      <td>0.0</td>\n      <td>0.0</td>\n      <td>0.0</td>\n      <td>0.0</td>\n      <td>0.0</td>\n      <td>2.0</td>\n    </tr>\n    <tr>\n      <th>9196</th>\n      <td>TGTAAGCAGCTTTGT</td>\n      <td>TTCTGAAAGGTCGTT</td>\n      <td>0.0</td>\n      <td>0.0</td>\n      <td>1.0</td>\n      <td>0.0</td>\n      <td>0.0</td>\n      <td>0.0</td>\n      <td>0.0</td>\n      <td>0.0</td>\n      <td>...</td>\n      <td>0.0</td>\n      <td>0.0</td>\n      <td>0.0</td>\n      <td>0.0</td>\n      <td>0.0</td>\n      <td>0.0</td>\n      <td>1.0</td>\n      <td>0.0</td>\n      <td>0.0</td>\n      <td>0.0</td>\n    </tr>\n    <tr>\n      <th>9197</th>\n      <td>ACTGGATTCTTATGG</td>\n      <td>TTCTGAAAGGTCGTT</td>\n      <td>0.0</td>\n      <td>0.0</td>\n      <td>1.0</td>\n      <td>0.0</td>\n      <td>0.0</td>\n      <td>1.0</td>\n      <td>0.0</td>\n      <td>1.0</td>\n      <td>...</td>\n      <td>0.0</td>\n      <td>0.0</td>\n      <td>0.0</td>\n      <td>1.0</td>\n      <td>0.0</td>\n      <td>0.0</td>\n      <td>1.0</td>\n      <td>0.0</td>\n      <td>0.0</td>\n      <td>1.0</td>\n    </tr>\n    <tr>\n      <th>9198</th>\n      <td>GCGTCTTTAAGTGAT</td>\n      <td>TTCTGAAAGGTCGTT</td>\n      <td>0.0</td>\n      <td>0.0</td>\n      <td>1.0</td>\n      <td>0.0</td>\n      <td>0.0</td>\n      <td>1.0</td>\n      <td>0.0</td>\n      <td>0.0</td>\n      <td>...</td>\n      <td>0.0</td>\n      <td>0.0</td>\n      <td>0.0</td>\n      <td>0.0</td>\n      <td>0.0</td>\n      <td>0.0</td>\n      <td>1.0</td>\n      <td>0.0</td>\n      <td>0.0</td>\n      <td>1.0</td>\n    </tr>\n    <tr>\n      <th>9199</th>\n      <td>CGGGTTAAGTATTCT</td>\n      <td>TTCTGAAAGGTCGTT</td>\n      <td>0.0</td>\n      <td>0.0</td>\n      <td>0.0</td>\n      <td>0.0</td>\n      <td>0.0</td>\n      <td>0.0</td>\n      <td>0.0</td>\n      <td>0.0</td>\n      <td>...</td>\n      <td>0.0</td>\n      <td>0.0</td>\n      <td>0.0</td>\n      <td>0.0</td>\n      <td>0.0</td>\n      <td>0.0</td>\n      <td>1.0</td>\n      <td>0.0</td>\n      <td>0.0</td>\n      <td>0.0</td>\n    </tr>\n  </tbody>\n</table>\n<p>9200 rows × 26 columns</p>\n</div>"
     },
     "execution_count": 13,
     "metadata": {},
     "output_type": "execute_result"
    }
   ],
   "source": [
    "sdf"
   ],
   "metadata": {
    "collapsed": false,
    "pycharm": {
     "name": "#%%\n"
    }
   }
  },
  {
   "cell_type": "code",
   "execution_count": 14,
   "outputs": [
    {
     "data": {
      "text/plain": "{'cai', 'fold_window_39', 'shinedal_sliding_20'}"
     },
     "execution_count": 14,
     "metadata": {},
     "output_type": "execute_result"
    }
   ],
   "source": [
    "# we need those as well\n",
    "set(features_to_generate) - set(df.columns)"
   ],
   "metadata": {
    "collapsed": false,
    "pycharm": {
     "name": "#%%\n"
    }
   }
  },
  {
   "cell_type": "code",
   "execution_count": 15,
   "outputs": [],
   "source": [
    "# sdf[['operon_sample', 'original_operon']].to_csv('../data/sequences_for_cai_rngs.csv', index=False)\n",
    "# df['operon'].to_csv('../data/sequences_for_cai_operons.csv', index=False)\n",
    "\n",
    "# load response\n",
    "cdf_operons = pd.read_csv('../data/sequences_for_cai_operons_with_cai.csv')\n",
    "df = df.merge(cdf_operons, on='operon', how='left').rename(columns={'CAI': 'cai'})\n",
    "\n",
    "cdf_rngs = pd.read_csv('../data/sequences_for_cai_rngs_with_cai.csv')\n",
    "sdf = sdf.merge(cdf_rngs[['operon_sample', 'CAI']], on='operon_sample', how='left').rename(columns={'CAI': 'cai'})\n"
   ],
   "metadata": {
    "collapsed": false,
    "pycharm": {
     "name": "#%%\n"
    }
   }
  },
  {
   "cell_type": "code",
   "execution_count": 16,
   "outputs": [
    {
     "data": {
      "text/plain": "{'fold_window_39', 'shinedal_sliding_20'}"
     },
     "execution_count": 16,
     "metadata": {},
     "output_type": "execute_result"
    }
   ],
   "source": [
    "# fold_window_39 and shinedal_sliding_20 are irrelevant because they can't be calculated\n",
    "# on the operons (they require a longer sequence...)\n",
    "set(features_to_generate) - set(df.columns)"
   ],
   "metadata": {
    "collapsed": false,
    "pycharm": {
     "name": "#%%\n"
    }
   }
  },
  {
   "cell_type": "code",
   "execution_count": 17,
   "outputs": [
    {
     "data": {
      "text/plain": "               operon  TCCT_count2  shinedal_sliding_12  CTT_count  \\\n0   TCAGGAGTAAAAGAGCC          0.0                  0.0        0.0   \n1     GGAGAAGATAAGAAA          0.0                  0.0        0.0   \n2     TGGTGAATTATGAAC          0.0                  0.0        0.0   \n3   TTTCTCGGCGCGGTCGT          0.0                  0.0        0.0   \n4     GCGCCTGCTGCCTTT          0.0                  0.0        1.0   \n..                ...          ...                  ...        ...   \n87   CCGATAAAATCCGTAC          0.0                  0.0        0.0   \n88  GAAATCGCACGTACCGA          0.0                  0.0        0.0   \n89   TGGCTGGCAGGTGGAG          0.0                  0.0        0.0   \n90    CAACATCATTCACGC          0.0                  0.0        0.0   \n91    TTCTGAAAGGTCGTT          0.0                  0.0        0.0   \n\n    CCAT_count  TCGA_count1  GA_count  GCAA_count1  TATG_count  GGAG_count1  \\\n0          0.0          0.0       2.0          0.0         0.0          1.0   \n1          0.0          0.0       4.0          0.0         0.0          0.0   \n2          0.0          0.0       2.0          0.0         1.0          0.0   \n3          0.0          0.0       0.0          0.0         0.0          0.0   \n4          0.0          0.0       0.0          0.0         0.0          0.0   \n..         ...          ...       ...          ...         ...          ...   \n87         0.0          0.0       1.0          0.0         0.0          0.0   \n88         0.0          0.0       2.0          0.0         0.0          0.0   \n89         0.0          0.0       1.0          0.0         0.0          1.0   \n90         0.0          0.0       0.0          0.0         0.0          0.0   \n91         0.0          0.0       1.0          0.0         0.0          0.0   \n\n    ...  mean_TATG_count  mean_GCAA_count1  mean_GGAG_count1  mean_AGA_count1  \\\n0   ...         0.054348          0.076087          0.043478         0.206522   \n1   ...         0.054348          0.076087          0.043478         0.206522   \n2   ...         0.054348          0.076087          0.043478         0.206522   \n3   ...         0.054348          0.076087          0.043478         0.206522   \n4   ...         0.054348          0.076087          0.043478         0.206522   \n..  ...              ...               ...               ...              ...   \n87  ...         0.054348          0.076087          0.043478         0.206522   \n88  ...         0.054348          0.076087          0.043478         0.206522   \n89  ...         0.054348          0.076087          0.043478         0.206522   \n90  ...         0.054348          0.076087          0.043478         0.206522   \n91  ...         0.054348          0.076087          0.043478         0.206522   \n\n    mean_ACTT_count1  mean_ATAA_count  mean_CTA_count  mean_TT_count  \\\n0           0.054348         0.076087        0.086957       1.032609   \n1           0.054348         0.076087        0.086957       1.032609   \n2           0.054348         0.076087        0.086957       1.032609   \n3           0.054348         0.076087        0.086957       1.032609   \n4           0.054348         0.076087        0.086957       1.032609   \n..               ...              ...             ...            ...   \n87          0.054348         0.076087        0.086957       1.032609   \n88          0.054348         0.076087        0.086957       1.032609   \n89          0.054348         0.076087        0.086957       1.032609   \n90          0.054348         0.076087        0.086957       1.032609   \n91          0.054348         0.076087        0.086957       1.032609   \n\n    mean_cai  mean_ATTT_count1  \n0   0.719176          0.054348  \n1   0.719176          0.054348  \n2   0.719176          0.054348  \n3   0.719176          0.054348  \n4   0.719176          0.054348  \n..       ...               ...  \n87  0.719176          0.054348  \n88  0.719176          0.054348  \n89  0.719176          0.054348  \n90  0.719176          0.054348  \n91  0.719176          0.054348  \n\n[92 rows x 51 columns]",
      "text/html": "<div>\n<style scoped>\n    .dataframe tbody tr th:only-of-type {\n        vertical-align: middle;\n    }\n\n    .dataframe tbody tr th {\n        vertical-align: top;\n    }\n\n    .dataframe thead th {\n        text-align: right;\n    }\n</style>\n<table border=\"1\" class=\"dataframe\">\n  <thead>\n    <tr style=\"text-align: right;\">\n      <th></th>\n      <th>operon</th>\n      <th>TCCT_count2</th>\n      <th>shinedal_sliding_12</th>\n      <th>CTT_count</th>\n      <th>CCAT_count</th>\n      <th>TCGA_count1</th>\n      <th>GA_count</th>\n      <th>GCAA_count1</th>\n      <th>TATG_count</th>\n      <th>GGAG_count1</th>\n      <th>...</th>\n      <th>mean_TATG_count</th>\n      <th>mean_GCAA_count1</th>\n      <th>mean_GGAG_count1</th>\n      <th>mean_AGA_count1</th>\n      <th>mean_ACTT_count1</th>\n      <th>mean_ATAA_count</th>\n      <th>mean_CTA_count</th>\n      <th>mean_TT_count</th>\n      <th>mean_cai</th>\n      <th>mean_ATTT_count1</th>\n    </tr>\n  </thead>\n  <tbody>\n    <tr>\n      <th>0</th>\n      <td>TCAGGAGTAAAAGAGCC</td>\n      <td>0.0</td>\n      <td>0.0</td>\n      <td>0.0</td>\n      <td>0.0</td>\n      <td>0.0</td>\n      <td>2.0</td>\n      <td>0.0</td>\n      <td>0.0</td>\n      <td>1.0</td>\n      <td>...</td>\n      <td>0.054348</td>\n      <td>0.076087</td>\n      <td>0.043478</td>\n      <td>0.206522</td>\n      <td>0.054348</td>\n      <td>0.076087</td>\n      <td>0.086957</td>\n      <td>1.032609</td>\n      <td>0.719176</td>\n      <td>0.054348</td>\n    </tr>\n    <tr>\n      <th>1</th>\n      <td>GGAGAAGATAAGAAA</td>\n      <td>0.0</td>\n      <td>0.0</td>\n      <td>0.0</td>\n      <td>0.0</td>\n      <td>0.0</td>\n      <td>4.0</td>\n      <td>0.0</td>\n      <td>0.0</td>\n      <td>0.0</td>\n      <td>...</td>\n      <td>0.054348</td>\n      <td>0.076087</td>\n      <td>0.043478</td>\n      <td>0.206522</td>\n      <td>0.054348</td>\n      <td>0.076087</td>\n      <td>0.086957</td>\n      <td>1.032609</td>\n      <td>0.719176</td>\n      <td>0.054348</td>\n    </tr>\n    <tr>\n      <th>2</th>\n      <td>TGGTGAATTATGAAC</td>\n      <td>0.0</td>\n      <td>0.0</td>\n      <td>0.0</td>\n      <td>0.0</td>\n      <td>0.0</td>\n      <td>2.0</td>\n      <td>0.0</td>\n      <td>1.0</td>\n      <td>0.0</td>\n      <td>...</td>\n      <td>0.054348</td>\n      <td>0.076087</td>\n      <td>0.043478</td>\n      <td>0.206522</td>\n      <td>0.054348</td>\n      <td>0.076087</td>\n      <td>0.086957</td>\n      <td>1.032609</td>\n      <td>0.719176</td>\n      <td>0.054348</td>\n    </tr>\n    <tr>\n      <th>3</th>\n      <td>TTTCTCGGCGCGGTCGT</td>\n      <td>0.0</td>\n      <td>0.0</td>\n      <td>0.0</td>\n      <td>0.0</td>\n      <td>0.0</td>\n      <td>0.0</td>\n      <td>0.0</td>\n      <td>0.0</td>\n      <td>0.0</td>\n      <td>...</td>\n      <td>0.054348</td>\n      <td>0.076087</td>\n      <td>0.043478</td>\n      <td>0.206522</td>\n      <td>0.054348</td>\n      <td>0.076087</td>\n      <td>0.086957</td>\n      <td>1.032609</td>\n      <td>0.719176</td>\n      <td>0.054348</td>\n    </tr>\n    <tr>\n      <th>4</th>\n      <td>GCGCCTGCTGCCTTT</td>\n      <td>0.0</td>\n      <td>0.0</td>\n      <td>1.0</td>\n      <td>0.0</td>\n      <td>0.0</td>\n      <td>0.0</td>\n      <td>0.0</td>\n      <td>0.0</td>\n      <td>0.0</td>\n      <td>...</td>\n      <td>0.054348</td>\n      <td>0.076087</td>\n      <td>0.043478</td>\n      <td>0.206522</td>\n      <td>0.054348</td>\n      <td>0.076087</td>\n      <td>0.086957</td>\n      <td>1.032609</td>\n      <td>0.719176</td>\n      <td>0.054348</td>\n    </tr>\n    <tr>\n      <th>...</th>\n      <td>...</td>\n      <td>...</td>\n      <td>...</td>\n      <td>...</td>\n      <td>...</td>\n      <td>...</td>\n      <td>...</td>\n      <td>...</td>\n      <td>...</td>\n      <td>...</td>\n      <td>...</td>\n      <td>...</td>\n      <td>...</td>\n      <td>...</td>\n      <td>...</td>\n      <td>...</td>\n      <td>...</td>\n      <td>...</td>\n      <td>...</td>\n      <td>...</td>\n      <td>...</td>\n    </tr>\n    <tr>\n      <th>87</th>\n      <td>CCGATAAAATCCGTAC</td>\n      <td>0.0</td>\n      <td>0.0</td>\n      <td>0.0</td>\n      <td>0.0</td>\n      <td>0.0</td>\n      <td>1.0</td>\n      <td>0.0</td>\n      <td>0.0</td>\n      <td>0.0</td>\n      <td>...</td>\n      <td>0.054348</td>\n      <td>0.076087</td>\n      <td>0.043478</td>\n      <td>0.206522</td>\n      <td>0.054348</td>\n      <td>0.076087</td>\n      <td>0.086957</td>\n      <td>1.032609</td>\n      <td>0.719176</td>\n      <td>0.054348</td>\n    </tr>\n    <tr>\n      <th>88</th>\n      <td>GAAATCGCACGTACCGA</td>\n      <td>0.0</td>\n      <td>0.0</td>\n      <td>0.0</td>\n      <td>0.0</td>\n      <td>0.0</td>\n      <td>2.0</td>\n      <td>0.0</td>\n      <td>0.0</td>\n      <td>0.0</td>\n      <td>...</td>\n      <td>0.054348</td>\n      <td>0.076087</td>\n      <td>0.043478</td>\n      <td>0.206522</td>\n      <td>0.054348</td>\n      <td>0.076087</td>\n      <td>0.086957</td>\n      <td>1.032609</td>\n      <td>0.719176</td>\n      <td>0.054348</td>\n    </tr>\n    <tr>\n      <th>89</th>\n      <td>TGGCTGGCAGGTGGAG</td>\n      <td>0.0</td>\n      <td>0.0</td>\n      <td>0.0</td>\n      <td>0.0</td>\n      <td>0.0</td>\n      <td>1.0</td>\n      <td>0.0</td>\n      <td>0.0</td>\n      <td>1.0</td>\n      <td>...</td>\n      <td>0.054348</td>\n      <td>0.076087</td>\n      <td>0.043478</td>\n      <td>0.206522</td>\n      <td>0.054348</td>\n      <td>0.076087</td>\n      <td>0.086957</td>\n      <td>1.032609</td>\n      <td>0.719176</td>\n      <td>0.054348</td>\n    </tr>\n    <tr>\n      <th>90</th>\n      <td>CAACATCATTCACGC</td>\n      <td>0.0</td>\n      <td>0.0</td>\n      <td>0.0</td>\n      <td>0.0</td>\n      <td>0.0</td>\n      <td>0.0</td>\n      <td>0.0</td>\n      <td>0.0</td>\n      <td>0.0</td>\n      <td>...</td>\n      <td>0.054348</td>\n      <td>0.076087</td>\n      <td>0.043478</td>\n      <td>0.206522</td>\n      <td>0.054348</td>\n      <td>0.076087</td>\n      <td>0.086957</td>\n      <td>1.032609</td>\n      <td>0.719176</td>\n      <td>0.054348</td>\n    </tr>\n    <tr>\n      <th>91</th>\n      <td>TTCTGAAAGGTCGTT</td>\n      <td>0.0</td>\n      <td>0.0</td>\n      <td>0.0</td>\n      <td>0.0</td>\n      <td>0.0</td>\n      <td>1.0</td>\n      <td>0.0</td>\n      <td>0.0</td>\n      <td>0.0</td>\n      <td>...</td>\n      <td>0.054348</td>\n      <td>0.076087</td>\n      <td>0.043478</td>\n      <td>0.206522</td>\n      <td>0.054348</td>\n      <td>0.076087</td>\n      <td>0.086957</td>\n      <td>1.032609</td>\n      <td>0.719176</td>\n      <td>0.054348</td>\n    </tr>\n  </tbody>\n</table>\n<p>92 rows × 51 columns</p>\n</div>"
     },
     "execution_count": 17,
     "metadata": {},
     "output_type": "execute_result"
    }
   ],
   "source": [
    "# calculate mean of each feature\n",
    "features = set(features_to_generate) - {'fold_window_39', 'shinedal_sliding_20'}\n",
    "\n",
    "for feature in features:\n",
    "  df[f'mean_{feature}'] = df[feature].mean()\n",
    "\n",
    "df"
   ],
   "metadata": {
    "collapsed": false,
    "pycharm": {
     "name": "#%%\n"
    }
   }
  },
  {
   "cell_type": "markdown",
   "source": [
    "## calculating p value"
   ],
   "metadata": {
    "collapsed": false,
    "pycharm": {
     "name": "#%% md\n"
    }
   }
  },
  {
   "cell_type": "code",
   "execution_count": 18,
   "outputs": [
    {
     "data": {
      "text/plain": "{'AGGG_count': 0.78,\n 'TCCT_count2': 0.91,\n 'AAGA_count': 0.14,\n 'TTGC_count2': 0.1,\n 'shinedal_sliding_12': 0.69,\n 'TATG_count2': 0.18,\n 'GA_count2': 0.29,\n 'CTT_count': 0.72,\n 'shinedal_sliding_11': 0.95,\n 'CCAT_count': 0.22,\n 'TCGA_count1': 0.17,\n 'CTAA_count2': 0.85,\n 'CT_count2': 0.96,\n 'CCT_count': 0.9,\n 'GA_count': 0.27,\n 'TATG_count': 0.27,\n 'GCAA_count1': 0.08,\n 'GGAG_count1': 0.53,\n 'AGA_count1': 0.73,\n 'ACTT_count1': 0.21,\n 'ATAA_count': 0.24,\n 'CTA_count': 1.0,\n 'TT_count': 0.04,\n 'cai': 1.0,\n 'ATTT_count1': 0.24}"
     },
     "execution_count": 18,
     "metadata": {},
     "output_type": "execute_result"
    }
   ],
   "source": [
    "# each original_operon has 100 operon_samples\n",
    "# take the first, then second, then third, ... operon_sample from each original_operon and calculate the mean of its features -- call it set_i_feature\n",
    "# for each feature on each set_i -- check if the set_i_feature is greater than the mean of the feature in the original_operon (df).\n",
    "# if yes count it\n",
    "\n",
    "real_avg = df[df.columns[df.columns.str.startswith('mean')]].head(1)  # every col is a feature and there one row\n",
    "real_avg_d = {k.strip('mean_'): v[0] for k, v in real_avg.to_dict().items()}\n",
    "\n",
    "feature_rngs_avg_greater = {f: 0 for f in features}\n",
    "\n",
    "for set_index in range(100):\n",
    "  set_features = sdf.groupby('original_operon').nth(set_index).reset_index()[list(features)].mean(\n",
    "    axis=0)  # mean of each feature in set i\n",
    "  set_features_d = set_features.to_dict()\n",
    "\n",
    "  for feature in features:\n",
    "    if feature.startswith('shinedal'):\n",
    "      if set_features_d[feature] < real_avg_d[feature]:\n",
    "        feature_rngs_avg_greater[feature] += 1\n",
    "    else:\n",
    "      if set_features_d[feature] > real_avg_d[feature]:\n",
    "        feature_rngs_avg_greater[feature] += 1\n",
    "\n",
    "feature_rngs_avg_greater = {f: v / 100 for f, v in feature_rngs_avg_greater.items()}\n",
    "feature_rngs_avg_greater"
   ],
   "metadata": {
    "collapsed": false,
    "pycharm": {
     "name": "#%%\n"
    }
   }
  },
  {
   "cell_type": "code",
   "execution_count": 19,
   "outputs": [
    {
     "name": "stdout",
     "output_type": "stream",
     "text": [
      "AGGG_count: 0.78\n",
      "TCCT_count2: 0.91\n",
      "AAGA_count: 0.14\n",
      "TTGC_count2: 0.1\n",
      "shinedal_sliding_12: 0.69\n",
      "TATG_count2: 0.18\n",
      "GA_count2: 0.29\n",
      "CTT_count: 0.72\n",
      "shinedal_sliding_11: 0.95\n",
      "CCAT_count: 0.22\n",
      "TCGA_count1: 0.17\n",
      "CTAA_count2: 0.85\n",
      "CT_count2: 0.96\n",
      "CCT_count: 0.9\n",
      "GA_count: 0.27\n",
      "TATG_count: 0.27\n",
      "GCAA_count1: 0.08\n",
      "GGAG_count1: 0.53\n",
      "AGA_count1: 0.73\n",
      "ACTT_count1: 0.21\n",
      "ATAA_count: 0.24\n",
      "CTA_count: 1.0\n",
      "TT_count: 0.04\n",
      "cai: 1.0\n",
      "ATTT_count1: 0.24\n"
     ]
    }
   ],
   "source": [
    "for k, v in feature_rngs_avg_greater.items():\n",
    "  print(\"{}: {}\".format(k, v))"
   ],
   "metadata": {
    "collapsed": false,
    "pycharm": {
     "name": "#%%\n"
    }
   }
  },
  {
   "cell_type": "code",
   "execution_count": 20,
   "outputs": [
    {
     "data": {
      "text/plain": "{'TT_count': 0.04}"
     },
     "execution_count": 20,
     "metadata": {},
     "output_type": "execute_result"
    }
   ],
   "source": [
    "{k:v for k,v in feature_rngs_avg_greater.items() if v < 0.05}"
   ],
   "metadata": {
    "collapsed": false,
    "pycharm": {
     "name": "#%%\n"
    }
   }
  },
  {
   "cell_type": "code",
   "execution_count": 21,
   "outputs": [
    {
     "data": {
      "text/plain": "<Figure size 432x288 with 1 Axes>",
      "image/png": "[encoded data removed]"
     },
     "metadata": {
      "needs_background": "light"
     },
     "output_type": "display_data"
    }
   ],
   "source": [
    "from matplotlib import pyplot as plt\n",
    "\n",
    "import matplotlib\n",
    "\n",
    "k, v = zip(*sorted(feature_rngs_avg_greater.items()))\n",
    "\n",
    "fig = plt.figure()\n",
    "ax = fig.add_subplot(111)\n",
    "ax.bar(k, v)\n",
    "ax.set_ylabel('p-value', fontdict={'fontsize': 22})\n",
    "ax.set_xlabel('feature', fontdict={'fontsize': 22})\n",
    "plt.xticks(rotation=90, ha='right')\n",
    "ax.axhline(y=0.05, color='r', label=\"0.05\")\n",
    "plt.show()"
   ],
   "metadata": {
    "collapsed": false,
    "pycharm": {
     "name": "#%%\n"
    }
   }
  },
  {
   "cell_type": "code",
   "execution_count": 22,
   "outputs": [
    {
     "data": {
      "text/plain": "{'TATG_count': 3,\n 'ATTT_count1': 1,\n 'ACTT_count1': 3,\n 'TCCT_count2': 3,\n 'AAGA_count': 3,\n 'GA_count': 3,\n 'AGA_count1': 4,\n 'cai': 3,\n 'CTA_count': 3,\n 'shinedal_sliding_12': 3,\n 'TTGC_count2': 3,\n 'CTT_count': 1,\n 'CTAA_count2': 3,\n 'ATAA_count': 2,\n 'GGAG_count1': 3,\n 'GA_count2': 3,\n 'CCT_count': 3,\n 'TT_count': 3,\n 'AGGG_count': 3,\n 'shinedal_sliding_11': 3,\n 'CT_count2': 3,\n 'TATG_count2': 3,\n 'TCGA_count1': 3,\n 'CCAT_count': 1,\n 'GCAA_count1': 1}"
     },
     "execution_count": 22,
     "metadata": {},
     "output_type": "execute_result"
    }
   ],
   "source": [
    "with open('../data/selected_features_and_appear_count.json') as f:\n",
    "  features_appear = {k.strip('group_'): v for k, v in json.load(f).items()}\n",
    "\n",
    "# make sure to remove unrelated features\n",
    "features_appear = {k: v for k, v in features_appear.items() if k in feature_rngs_avg_greater.keys()}\n",
    "\n",
    "features_appear"
   ],
   "metadata": {
    "collapsed": false,
    "pycharm": {
     "name": "#%%\n"
    }
   }
  },
  {
   "cell_type": "code",
   "execution_count": 23,
   "outputs": [],
   "source": [
    "# sort by appear count\n",
    "#\", \".join(str(v) for v in collections.Counter(features_appear).most_common())\n",
    "vcount = sorted(collections.Counter(features_appear).values(), reverse=True)"
   ],
   "metadata": {
    "collapsed": false,
    "pycharm": {
     "name": "#%%\n"
    }
   }
  },
  {
   "cell_type": "code",
   "execution_count": 24,
   "outputs": [],
   "source": [
    "# sort by p value\n",
    "#\", \".join(str(v) for v in collections.Counter(feature_rngs_avg_greater).most_common()[::-1])\n",
    "vpval = sorted(collections.Counter(feature_rngs_avg_greater).values(), reverse=True)"
   ],
   "metadata": {
    "collapsed": false,
    "pycharm": {
     "name": "#%%\n"
    }
   }
  },
  {
   "cell_type": "code",
   "execution_count": 25,
   "outputs": [
    {
     "data": {
      "text/plain": "0.7420659703283174"
     },
     "execution_count": 25,
     "metadata": {},
     "output_type": "execute_result"
    }
   ],
   "source": [
    "pd.Series(vcount).corr(pd.Series(vpval), method='spearman')"
   ],
   "metadata": {
    "collapsed": false,
    "pycharm": {
     "name": "#%%\n"
    }
   }
  }
 ],
 "metadata": {
  "kernelspec": {
   "display_name": "Python 3",
   "language": "python",
   "name": "python3"
  },
  "language_info": {
   "codemirror_mode": {
    "name": "ipython",
    "version": 2
   },
   "file_extension": ".py",
   "mimetype": "text/x-python",
   "name": "python",
   "nbconvert_exporter": "python",
   "pygments_lexer": "ipython2",
   "version": "2.7.6"
  }
 },
 "nbformat": 4,
 "nbformat_minor": 0
}